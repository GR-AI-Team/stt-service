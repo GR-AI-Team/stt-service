{
 "cells": [
  {
   "cell_type": "code",
   "execution_count": 1,
   "id": "d6073585",
   "metadata": {},
   "outputs": [],
   "source": [
    "import asyncio\n",
    "import json\n",
    "import os\n",
    "import uuid\n",
    "import websockets\n",
    "import time\n",
    "from fastapi import FastAPI, WebSocket, UploadFile, File, Form, HTTPException, BackgroundTasks, WebSocketDisconnect\n",
    "from fastapi.responses import HTMLResponse\n",
    "from pydantic import BaseModel\n",
    "import logging\n",
    "from openai import OpenAI\n",
    "from aliyunsdkcore.client import AcsClient\n",
    "from aliyunsdkcore.request import CommonRequest\n",
    "import aiofiles\n",
    "import wave\n",
    "from dotenv import load_dotenv\n",
    "\n",
    "\n",
    "load_dotenv()\n",
    "\n",
    "# Configuration - Load from environment variables in production\n",
    "ALIBABA_ACCESS_KEY_ID = os.getenv(\"ALIBABA_ACCESS_KEY_ID\")\n",
    "ALIBABA_ACCESS_KEY_SECRET = os.getenv(\"ALIBABA_ACCESS_KEY_SECRET\")\n",
    "ALIBABA_REGION = os.getenv(\"ALIBABA_REGION\", \"ap-southeast-1\")\n",
    "ALIBABA_APPKEY = os.getenv(\"ALIBABA_APPKEY\")\n",
    "QWEN_API_KEY = os.getenv(\"DASHSCOPE_API_KEY\")\n",
    "SENTIMENT_CHECK_INTERVAL = 5  # Check sentiment every 5 seconds\n",
    "SENTIMENT_THRESHOLD = 0.3  # Threshold for negative sentiment alerts (0-1)\n",
    "TEMP_AUDIO_DIR = \"temp_audio\""
   ]
  },
  {
   "cell_type": "code",
   "execution_count": 12,
   "id": "80c7075a",
   "metadata": {},
   "outputs": [],
   "source": [
    "logging.basicConfig(level=logging.INFO)\n",
    "logger = logging.getLogger(__name__)\n",
    "def get_alibaba_token():\n",
    "    \"\"\"Obtain an access token for Alibaba Speech Recognition service\"\"\"\n",
    "    client = AcsClient(\n",
    "        ALIBABA_ACCESS_KEY_ID,\n",
    "        ALIBABA_ACCESS_KEY_SECRET,\n",
    "        ALIBABA_REGION\n",
    "    )\n",
    "    \n",
    "    request = CommonRequest()\n",
    "    request.set_method('POST')\n",
    "    request.set_domain(f'nlsmeta.{ALIBABA_REGION}.aliyuncs.com')\n",
    "    request.set_version('2019-07-17')\n",
    "    request.set_action_name('CreateToken')\n",
    "    \n",
    "    try:\n",
    "        response = client.do_action_with_exception(request)\n",
    "        decoded_response = response.decode(\"utf-8\")\n",
    "        logger.info(f\"Raw response from Alibaba: {decoded_response}\")\n",
    "        response_json = json.loads(decoded_response)\n",
    "\n",
    "        token = response_json.get(\"Token\", {}).get(\"Id\")\n",
    "        if not token:\n",
    "            logger.error(\"Token not found in response JSON: %s\", response_json)\n",
    "            raise HTTPException(status_code=500, detail=\"Token missing in response.\")\n",
    "\n",
    "        return token\n",
    "    except Exception as e:\n",
    "        logger.error(f\"Failed to get Alibaba token: {e}\")\n",
    "        raise HTTPException(status_code=500, detail=\"Failed to get access token\")\n"
   ]
  },
  {
   "cell_type": "code",
   "execution_count": 15,
   "id": "a7713320",
   "metadata": {},
   "outputs": [
    {
     "name": "stderr",
     "output_type": "stream",
     "text": [
      "INFO:__main__:Raw response from Alibaba: {\"ErrMsg\":\"\",\"Token\":{\"UserId\":\"5020438697749531\",\"Id\":\"c021d3977ef0478dbd1a56dd56fd9dd4\",\"ExpireTime\":1747884035}}\n"
     ]
    },
    {
     "name": "stdout",
     "output_type": "stream",
     "text": [
      "Alibaba Token: c021d3977ef0478dbd1a56dd56fd9dd4\n"
     ]
    }
   ],
   "source": [
    "alibaba_token = get_alibaba_token()\n",
    "print(f\"Alibaba Token: {alibaba_token}\")"
   ]
  },
  {
   "cell_type": "code",
   "execution_count": null,
   "id": "6b85de3a",
   "metadata": {},
   "outputs": [],
   "source": []
  }
 ],
 "metadata": {
  "kernelspec": {
   "display_name": "alibaba",
   "language": "python",
   "name": "python3"
  },
  "language_info": {
   "codemirror_mode": {
    "name": "ipython",
    "version": 3
   },
   "file_extension": ".py",
   "mimetype": "text/x-python",
   "name": "python",
   "nbconvert_exporter": "python",
   "pygments_lexer": "ipython3",
   "version": "3.10.17"
  }
 },
 "nbformat": 4,
 "nbformat_minor": 5
}
